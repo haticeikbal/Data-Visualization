{
 "cells": [
  {
   "cell_type": "markdown",
   "id": "0583726e-baac-477c-8bda-838445cd92de",
   "metadata": {},
   "source": [
    "### Çizgi Grafik\n",
    "* Daha komplike olan veri setlerinde\n",
    "* Zamana bağlı değişken olan veri setlerinde\n",
    "* Nesnelerin interneti gibii seneryolarda makinelerin çıktısını görselleştirdiğimiz\n",
    "garfiktir."
   ]
  },
  {
   "cell_type": "markdown",
   "id": "ec8467ea-a35b-40b4-afe4-b56d0470020e",
   "metadata": {},
   "source": [
    "#### Veri Seti Hikayesi"
   ]
  },
  {
   "cell_type": "code",
   "execution_count": 2,
   "id": "2a7dc323-5e3c-48cb-bf0c-18b72434d563",
   "metadata": {},
   "outputs": [
    {
     "data": {
      "text/html": [
       "<div>\n",
       "<style scoped>\n",
       "    .dataframe tbody tr th:only-of-type {\n",
       "        vertical-align: middle;\n",
       "    }\n",
       "\n",
       "    .dataframe tbody tr th {\n",
       "        vertical-align: top;\n",
       "    }\n",
       "\n",
       "    .dataframe thead th {\n",
       "        text-align: right;\n",
       "    }\n",
       "</style>\n",
       "<table border=\"1\" class=\"dataframe\">\n",
       "  <thead>\n",
       "    <tr style=\"text-align: right;\">\n",
       "      <th></th>\n",
       "      <th>subject</th>\n",
       "      <th>timepoint</th>\n",
       "      <th>event</th>\n",
       "      <th>region</th>\n",
       "      <th>signal</th>\n",
       "    </tr>\n",
       "  </thead>\n",
       "  <tbody>\n",
       "    <tr>\n",
       "      <th>0</th>\n",
       "      <td>s13</td>\n",
       "      <td>18</td>\n",
       "      <td>stim</td>\n",
       "      <td>parietal</td>\n",
       "      <td>-0.017552</td>\n",
       "    </tr>\n",
       "    <tr>\n",
       "      <th>1</th>\n",
       "      <td>s5</td>\n",
       "      <td>14</td>\n",
       "      <td>stim</td>\n",
       "      <td>parietal</td>\n",
       "      <td>-0.080883</td>\n",
       "    </tr>\n",
       "    <tr>\n",
       "      <th>2</th>\n",
       "      <td>s12</td>\n",
       "      <td>18</td>\n",
       "      <td>stim</td>\n",
       "      <td>parietal</td>\n",
       "      <td>-0.081033</td>\n",
       "    </tr>\n",
       "    <tr>\n",
       "      <th>3</th>\n",
       "      <td>s11</td>\n",
       "      <td>18</td>\n",
       "      <td>stim</td>\n",
       "      <td>parietal</td>\n",
       "      <td>-0.046134</td>\n",
       "    </tr>\n",
       "    <tr>\n",
       "      <th>4</th>\n",
       "      <td>s10</td>\n",
       "      <td>18</td>\n",
       "      <td>stim</td>\n",
       "      <td>parietal</td>\n",
       "      <td>-0.037970</td>\n",
       "    </tr>\n",
       "    <tr>\n",
       "      <th>...</th>\n",
       "      <td>...</td>\n",
       "      <td>...</td>\n",
       "      <td>...</td>\n",
       "      <td>...</td>\n",
       "      <td>...</td>\n",
       "    </tr>\n",
       "    <tr>\n",
       "      <th>1059</th>\n",
       "      <td>s0</td>\n",
       "      <td>8</td>\n",
       "      <td>cue</td>\n",
       "      <td>frontal</td>\n",
       "      <td>0.018165</td>\n",
       "    </tr>\n",
       "    <tr>\n",
       "      <th>1060</th>\n",
       "      <td>s13</td>\n",
       "      <td>7</td>\n",
       "      <td>cue</td>\n",
       "      <td>frontal</td>\n",
       "      <td>-0.029130</td>\n",
       "    </tr>\n",
       "    <tr>\n",
       "      <th>1061</th>\n",
       "      <td>s12</td>\n",
       "      <td>7</td>\n",
       "      <td>cue</td>\n",
       "      <td>frontal</td>\n",
       "      <td>-0.004939</td>\n",
       "    </tr>\n",
       "    <tr>\n",
       "      <th>1062</th>\n",
       "      <td>s11</td>\n",
       "      <td>7</td>\n",
       "      <td>cue</td>\n",
       "      <td>frontal</td>\n",
       "      <td>-0.025367</td>\n",
       "    </tr>\n",
       "    <tr>\n",
       "      <th>1063</th>\n",
       "      <td>s0</td>\n",
       "      <td>0</td>\n",
       "      <td>cue</td>\n",
       "      <td>parietal</td>\n",
       "      <td>-0.006899</td>\n",
       "    </tr>\n",
       "  </tbody>\n",
       "</table>\n",
       "<p>1064 rows × 5 columns</p>\n",
       "</div>"
      ],
      "text/plain": [
       "     subject  timepoint event    region    signal\n",
       "0        s13         18  stim  parietal -0.017552\n",
       "1         s5         14  stim  parietal -0.080883\n",
       "2        s12         18  stim  parietal -0.081033\n",
       "3        s11         18  stim  parietal -0.046134\n",
       "4        s10         18  stim  parietal -0.037970\n",
       "...      ...        ...   ...       ...       ...\n",
       "1059      s0          8   cue   frontal  0.018165\n",
       "1060     s13          7   cue   frontal -0.029130\n",
       "1061     s12          7   cue   frontal -0.004939\n",
       "1062     s11          7   cue   frontal -0.025367\n",
       "1063      s0          0   cue  parietal -0.006899\n",
       "\n",
       "[1064 rows x 5 columns]"
      ]
     },
     "execution_count": 2,
     "metadata": {},
     "output_type": "execute_result"
    }
   ],
   "source": [
    "import seaborn as sns\n",
    "fmri = sns.load_dataset(\"fmri\")\n",
    "df = fmri.copy()\n",
    "df"
   ]
  },
  {
   "cell_type": "code",
   "execution_count": 5,
   "id": "11d70c36-5162-4f33-984a-98819e4d0c9a",
   "metadata": {},
   "outputs": [
    {
     "name": "stdout",
     "output_type": "stream",
     "text": [
      "<class 'pandas.core.frame.DataFrame'>\n",
      "RangeIndex: 1064 entries, 0 to 1063\n",
      "Data columns (total 5 columns):\n",
      " #   Column     Non-Null Count  Dtype  \n",
      "---  ------     --------------  -----  \n",
      " 0   subject    1064 non-null   object \n",
      " 1   timepoint  1064 non-null   int64  \n",
      " 2   event      1064 non-null   object \n",
      " 3   region     1064 non-null   object \n",
      " 4   signal     1064 non-null   float64\n",
      "dtypes: float64(1), int64(1), object(3)\n",
      "memory usage: 41.7+ KB\n"
     ]
    }
   ],
   "source": [
    "df.info()\n",
    "#buradaki timepoint değişkeni kesikli bir değerken signal değeri sürekli bir değerdir."
   ]
  },
  {
   "cell_type": "code",
   "execution_count": 6,
   "id": "2a450b16-65ed-4795-807d-7b87be838216",
   "metadata": {},
   "outputs": [
    {
     "data": {
      "text/plain": [
       "count    1064.000000\n",
       "mean        9.000000\n",
       "std         5.479801\n",
       "min         0.000000\n",
       "25%         4.000000\n",
       "50%         9.000000\n",
       "75%        14.000000\n",
       "max        18.000000\n",
       "Name: timepoint, dtype: float64"
      ]
     },
     "execution_count": 6,
     "metadata": {},
     "output_type": "execute_result"
    }
   ],
   "source": [
    "#nesnelerin interneti gibi muamele yapmak istersek:\n",
    "df[\"timepoint\"].describe()"
   ]
  },
  {
   "cell_type": "code",
   "execution_count": 7,
   "id": "ede5755c-db79-43d5-aa85-98879f09372a",
   "metadata": {},
   "outputs": [],
   "source": [
    "#istenirse kategorik değişken gibi değerlendirilebilir."
   ]
  },
  {
   "cell_type": "code",
   "execution_count": 8,
   "id": "db1b5cdb-f5da-4b2c-b470-8e32a1592085",
   "metadata": {},
   "outputs": [
    {
     "data": {
      "text/plain": [
       "count    1064.000000\n",
       "mean        0.003540\n",
       "std         0.093930\n",
       "min        -0.255486\n",
       "25%        -0.046070\n",
       "50%        -0.013653\n",
       "75%         0.024293\n",
       "max         0.564985\n",
       "Name: signal, dtype: float64"
      ]
     },
     "execution_count": 8,
     "metadata": {},
     "output_type": "execute_result"
    }
   ],
   "source": [
    "df[\"signal\"].describe()"
   ]
  },
  {
   "cell_type": "code",
   "execution_count": 9,
   "id": "a387fca0-3f52-4822-9cb2-88b85292eba5",
   "metadata": {},
   "outputs": [],
   "source": [
    "#bu ölçeğe göre std sapma yüksek dendi ve neye göre karar verildi."
   ]
  },
  {
   "cell_type": "code",
   "execution_count": 11,
   "id": "56ea561c-df42-4e56-818a-53f23087d880",
   "metadata": {},
   "outputs": [
    {
     "data": {
      "text/plain": [
       "timepoint\n",
       "0     56\n",
       "1     56\n",
       "2     56\n",
       "3     56\n",
       "4     56\n",
       "5     56\n",
       "6     56\n",
       "7     56\n",
       "8     56\n",
       "9     56\n",
       "10    56\n",
       "11    56\n",
       "12    56\n",
       "13    56\n",
       "14    56\n",
       "15    56\n",
       "16    56\n",
       "17    56\n",
       "18    56\n",
       "Name: signal, dtype: int64"
      ]
     },
     "execution_count": 11,
     "metadata": {},
     "output_type": "execute_result"
    }
   ],
   "source": [
    "df.groupby(\"timepoint\")[\"signal\"].count()\n",
    "#demekki her bir zaman noktsında eşit sayıda sayma işlemi yapılmış signal değeri için."
   ]
  },
  {
   "cell_type": "code",
   "execution_count": 12,
   "id": "25cf2411-8b3d-407b-9da4-2bf0659c8d08",
   "metadata": {},
   "outputs": [
    {
     "data": {
      "text/html": [
       "<div>\n",
       "<style scoped>\n",
       "    .dataframe tbody tr th:only-of-type {\n",
       "        vertical-align: middle;\n",
       "    }\n",
       "\n",
       "    .dataframe tbody tr th {\n",
       "        vertical-align: top;\n",
       "    }\n",
       "\n",
       "    .dataframe thead th {\n",
       "        text-align: right;\n",
       "    }\n",
       "</style>\n",
       "<table border=\"1\" class=\"dataframe\">\n",
       "  <thead>\n",
       "    <tr style=\"text-align: right;\">\n",
       "      <th></th>\n",
       "      <th>subject</th>\n",
       "      <th>timepoint</th>\n",
       "      <th>event</th>\n",
       "      <th>region</th>\n",
       "    </tr>\n",
       "    <tr>\n",
       "      <th>signal</th>\n",
       "      <th></th>\n",
       "      <th></th>\n",
       "      <th></th>\n",
       "      <th></th>\n",
       "    </tr>\n",
       "  </thead>\n",
       "  <tbody>\n",
       "    <tr>\n",
       "      <th>-0.255486</th>\n",
       "      <td>1</td>\n",
       "      <td>1</td>\n",
       "      <td>1</td>\n",
       "      <td>1</td>\n",
       "    </tr>\n",
       "    <tr>\n",
       "      <th>-0.238474</th>\n",
       "      <td>1</td>\n",
       "      <td>1</td>\n",
       "      <td>1</td>\n",
       "      <td>1</td>\n",
       "    </tr>\n",
       "    <tr>\n",
       "      <th>-0.224351</th>\n",
       "      <td>1</td>\n",
       "      <td>1</td>\n",
       "      <td>1</td>\n",
       "      <td>1</td>\n",
       "    </tr>\n",
       "    <tr>\n",
       "      <th>-0.181241</th>\n",
       "      <td>1</td>\n",
       "      <td>1</td>\n",
       "      <td>1</td>\n",
       "      <td>1</td>\n",
       "    </tr>\n",
       "    <tr>\n",
       "      <th>-0.178510</th>\n",
       "      <td>1</td>\n",
       "      <td>1</td>\n",
       "      <td>1</td>\n",
       "      <td>1</td>\n",
       "    </tr>\n",
       "    <tr>\n",
       "      <th>...</th>\n",
       "      <td>...</td>\n",
       "      <td>...</td>\n",
       "      <td>...</td>\n",
       "      <td>...</td>\n",
       "    </tr>\n",
       "    <tr>\n",
       "      <th>0.455575</th>\n",
       "      <td>1</td>\n",
       "      <td>1</td>\n",
       "      <td>1</td>\n",
       "      <td>1</td>\n",
       "    </tr>\n",
       "    <tr>\n",
       "      <th>0.460896</th>\n",
       "      <td>1</td>\n",
       "      <td>1</td>\n",
       "      <td>1</td>\n",
       "      <td>1</td>\n",
       "    </tr>\n",
       "    <tr>\n",
       "      <th>0.476055</th>\n",
       "      <td>1</td>\n",
       "      <td>1</td>\n",
       "      <td>1</td>\n",
       "      <td>1</td>\n",
       "    </tr>\n",
       "    <tr>\n",
       "      <th>0.494787</th>\n",
       "      <td>1</td>\n",
       "      <td>1</td>\n",
       "      <td>1</td>\n",
       "      <td>1</td>\n",
       "    </tr>\n",
       "    <tr>\n",
       "      <th>0.564985</th>\n",
       "      <td>1</td>\n",
       "      <td>1</td>\n",
       "      <td>1</td>\n",
       "      <td>1</td>\n",
       "    </tr>\n",
       "  </tbody>\n",
       "</table>\n",
       "<p>1064 rows × 4 columns</p>\n",
       "</div>"
      ],
      "text/plain": [
       "           subject  timepoint  event  region\n",
       "signal                                      \n",
       "-0.255486        1          1      1       1\n",
       "-0.238474        1          1      1       1\n",
       "-0.224351        1          1      1       1\n",
       "-0.181241        1          1      1       1\n",
       "-0.178510        1          1      1       1\n",
       "...            ...        ...    ...     ...\n",
       " 0.455575        1          1      1       1\n",
       " 0.460896        1          1      1       1\n",
       " 0.476055        1          1      1       1\n",
       " 0.494787        1          1      1       1\n",
       " 0.564985        1          1      1       1\n",
       "\n",
       "[1064 rows x 4 columns]"
      ]
     },
     "execution_count": 12,
     "metadata": {},
     "output_type": "execute_result"
    }
   ],
   "source": [
    "df.groupby(\"signal\").count()"
   ]
  },
  {
   "cell_type": "code",
   "execution_count": 13,
   "id": "f820bfb0-f3ce-4c83-b3ec-c459c48a7424",
   "metadata": {},
   "outputs": [],
   "source": [
    "#her bir sinyalin unique tekil oldugunu anlamış olduk."
   ]
  },
  {
   "cell_type": "code",
   "execution_count": 14,
   "id": "3c897aa3-1b24-4920-9df4-758ae23160b6",
   "metadata": {},
   "outputs": [
    {
     "data": {
      "text/html": [
       "<div>\n",
       "<style scoped>\n",
       "    .dataframe tbody tr th:only-of-type {\n",
       "        vertical-align: middle;\n",
       "    }\n",
       "\n",
       "    .dataframe tbody tr th {\n",
       "        vertical-align: top;\n",
       "    }\n",
       "\n",
       "    .dataframe thead th {\n",
       "        text-align: right;\n",
       "    }\n",
       "</style>\n",
       "<table border=\"1\" class=\"dataframe\">\n",
       "  <thead>\n",
       "    <tr style=\"text-align: right;\">\n",
       "      <th></th>\n",
       "      <th>count</th>\n",
       "      <th>mean</th>\n",
       "      <th>std</th>\n",
       "      <th>min</th>\n",
       "      <th>25%</th>\n",
       "      <th>50%</th>\n",
       "      <th>75%</th>\n",
       "      <th>max</th>\n",
       "    </tr>\n",
       "    <tr>\n",
       "      <th>timepoint</th>\n",
       "      <th></th>\n",
       "      <th></th>\n",
       "      <th></th>\n",
       "      <th></th>\n",
       "      <th></th>\n",
       "      <th></th>\n",
       "      <th></th>\n",
       "      <th></th>\n",
       "    </tr>\n",
       "  </thead>\n",
       "  <tbody>\n",
       "    <tr>\n",
       "      <th>0</th>\n",
       "      <td>56.0</td>\n",
       "      <td>-0.016662</td>\n",
       "      <td>0.028326</td>\n",
       "      <td>-0.064454</td>\n",
       "      <td>-0.039169</td>\n",
       "      <td>-0.018382</td>\n",
       "      <td>0.003539</td>\n",
       "      <td>0.074399</td>\n",
       "    </tr>\n",
       "    <tr>\n",
       "      <th>1</th>\n",
       "      <td>56.0</td>\n",
       "      <td>-0.025002</td>\n",
       "      <td>0.030641</td>\n",
       "      <td>-0.082174</td>\n",
       "      <td>-0.046299</td>\n",
       "      <td>-0.024533</td>\n",
       "      <td>-0.005388</td>\n",
       "      <td>0.063558</td>\n",
       "    </tr>\n",
       "    <tr>\n",
       "      <th>2</th>\n",
       "      <td>56.0</td>\n",
       "      <td>-0.012873</td>\n",
       "      <td>0.035440</td>\n",
       "      <td>-0.110565</td>\n",
       "      <td>-0.034944</td>\n",
       "      <td>-0.013183</td>\n",
       "      <td>0.009318</td>\n",
       "      <td>0.077277</td>\n",
       "    </tr>\n",
       "    <tr>\n",
       "      <th>3</th>\n",
       "      <td>56.0</td>\n",
       "      <td>0.034446</td>\n",
       "      <td>0.058260</td>\n",
       "      <td>-0.089708</td>\n",
       "      <td>-0.001157</td>\n",
       "      <td>0.028430</td>\n",
       "      <td>0.061840</td>\n",
       "      <td>0.185581</td>\n",
       "    </tr>\n",
       "    <tr>\n",
       "      <th>4</th>\n",
       "      <td>56.0</td>\n",
       "      <td>0.098194</td>\n",
       "      <td>0.092838</td>\n",
       "      <td>-0.046347</td>\n",
       "      <td>0.030912</td>\n",
       "      <td>0.070166</td>\n",
       "      <td>0.144911</td>\n",
       "      <td>0.346775</td>\n",
       "    </tr>\n",
       "    <tr>\n",
       "      <th>5</th>\n",
       "      <td>56.0</td>\n",
       "      <td>0.137725</td>\n",
       "      <td>0.123353</td>\n",
       "      <td>-0.017946</td>\n",
       "      <td>0.042762</td>\n",
       "      <td>0.096535</td>\n",
       "      <td>0.211638</td>\n",
       "      <td>0.476055</td>\n",
       "    </tr>\n",
       "    <tr>\n",
       "      <th>6</th>\n",
       "      <td>56.0</td>\n",
       "      <td>0.127515</td>\n",
       "      <td>0.137332</td>\n",
       "      <td>-0.054405</td>\n",
       "      <td>0.022409</td>\n",
       "      <td>0.068850</td>\n",
       "      <td>0.218919</td>\n",
       "      <td>0.564985</td>\n",
       "    </tr>\n",
       "    <tr>\n",
       "      <th>7</th>\n",
       "      <td>56.0</td>\n",
       "      <td>0.075660</td>\n",
       "      <td>0.129704</td>\n",
       "      <td>-0.108222</td>\n",
       "      <td>-0.016252</td>\n",
       "      <td>0.032486</td>\n",
       "      <td>0.144781</td>\n",
       "      <td>0.494787</td>\n",
       "    </tr>\n",
       "    <tr>\n",
       "      <th>8</th>\n",
       "      <td>56.0</td>\n",
       "      <td>0.013420</td>\n",
       "      <td>0.104216</td>\n",
       "      <td>-0.181241</td>\n",
       "      <td>-0.049453</td>\n",
       "      <td>-0.012834</td>\n",
       "      <td>0.030396</td>\n",
       "      <td>0.337143</td>\n",
       "    </tr>\n",
       "    <tr>\n",
       "      <th>9</th>\n",
       "      <td>56.0</td>\n",
       "      <td>-0.032041</td>\n",
       "      <td>0.072728</td>\n",
       "      <td>-0.152929</td>\n",
       "      <td>-0.075693</td>\n",
       "      <td>-0.038496</td>\n",
       "      <td>0.008717</td>\n",
       "      <td>0.221716</td>\n",
       "    </tr>\n",
       "    <tr>\n",
       "      <th>10</th>\n",
       "      <td>56.0</td>\n",
       "      <td>-0.053685</td>\n",
       "      <td>0.053148</td>\n",
       "      <td>-0.176453</td>\n",
       "      <td>-0.078893</td>\n",
       "      <td>-0.052906</td>\n",
       "      <td>-0.015302</td>\n",
       "      <td>0.089231</td>\n",
       "    </tr>\n",
       "    <tr>\n",
       "      <th>11</th>\n",
       "      <td>56.0</td>\n",
       "      <td>-0.058194</td>\n",
       "      <td>0.053828</td>\n",
       "      <td>-0.238474</td>\n",
       "      <td>-0.093127</td>\n",
       "      <td>-0.045699</td>\n",
       "      <td>-0.022522</td>\n",
       "      <td>0.030528</td>\n",
       "    </tr>\n",
       "    <tr>\n",
       "      <th>12</th>\n",
       "      <td>56.0</td>\n",
       "      <td>-0.052526</td>\n",
       "      <td>0.056991</td>\n",
       "      <td>-0.255486</td>\n",
       "      <td>-0.090391</td>\n",
       "      <td>-0.042294</td>\n",
       "      <td>-0.016239</td>\n",
       "      <td>0.055766</td>\n",
       "    </tr>\n",
       "    <tr>\n",
       "      <th>13</th>\n",
       "      <td>56.0</td>\n",
       "      <td>-0.043532</td>\n",
       "      <td>0.053598</td>\n",
       "      <td>-0.224351</td>\n",
       "      <td>-0.069285</td>\n",
       "      <td>-0.031612</td>\n",
       "      <td>-0.012958</td>\n",
       "      <td>0.059510</td>\n",
       "    </tr>\n",
       "    <tr>\n",
       "      <th>14</th>\n",
       "      <td>56.0</td>\n",
       "      <td>-0.033660</td>\n",
       "      <td>0.045983</td>\n",
       "      <td>-0.169312</td>\n",
       "      <td>-0.055110</td>\n",
       "      <td>-0.022165</td>\n",
       "      <td>-0.006797</td>\n",
       "      <td>0.050133</td>\n",
       "    </tr>\n",
       "    <tr>\n",
       "      <th>15</th>\n",
       "      <td>56.0</td>\n",
       "      <td>-0.025880</td>\n",
       "      <td>0.039092</td>\n",
       "      <td>-0.134828</td>\n",
       "      <td>-0.050536</td>\n",
       "      <td>-0.018207</td>\n",
       "      <td>0.000486</td>\n",
       "      <td>0.047102</td>\n",
       "    </tr>\n",
       "    <tr>\n",
       "      <th>16</th>\n",
       "      <td>56.0</td>\n",
       "      <td>-0.022414</td>\n",
       "      <td>0.035035</td>\n",
       "      <td>-0.131641</td>\n",
       "      <td>-0.041122</td>\n",
       "      <td>-0.020777</td>\n",
       "      <td>-0.001380</td>\n",
       "      <td>0.057105</td>\n",
       "    </tr>\n",
       "    <tr>\n",
       "      <th>17</th>\n",
       "      <td>56.0</td>\n",
       "      <td>-0.021368</td>\n",
       "      <td>0.034797</td>\n",
       "      <td>-0.121574</td>\n",
       "      <td>-0.042946</td>\n",
       "      <td>-0.017070</td>\n",
       "      <td>-0.000026</td>\n",
       "      <td>0.073757</td>\n",
       "    </tr>\n",
       "    <tr>\n",
       "      <th>18</th>\n",
       "      <td>56.0</td>\n",
       "      <td>-0.021867</td>\n",
       "      <td>0.036322</td>\n",
       "      <td>-0.103513</td>\n",
       "      <td>-0.046781</td>\n",
       "      <td>-0.020225</td>\n",
       "      <td>-0.002821</td>\n",
       "      <td>0.090520</td>\n",
       "    </tr>\n",
       "  </tbody>\n",
       "</table>\n",
       "</div>"
      ],
      "text/plain": [
       "           count      mean       std       min       25%       50%       75%  \\\n",
       "timepoint                                                                      \n",
       "0           56.0 -0.016662  0.028326 -0.064454 -0.039169 -0.018382  0.003539   \n",
       "1           56.0 -0.025002  0.030641 -0.082174 -0.046299 -0.024533 -0.005388   \n",
       "2           56.0 -0.012873  0.035440 -0.110565 -0.034944 -0.013183  0.009318   \n",
       "3           56.0  0.034446  0.058260 -0.089708 -0.001157  0.028430  0.061840   \n",
       "4           56.0  0.098194  0.092838 -0.046347  0.030912  0.070166  0.144911   \n",
       "5           56.0  0.137725  0.123353 -0.017946  0.042762  0.096535  0.211638   \n",
       "6           56.0  0.127515  0.137332 -0.054405  0.022409  0.068850  0.218919   \n",
       "7           56.0  0.075660  0.129704 -0.108222 -0.016252  0.032486  0.144781   \n",
       "8           56.0  0.013420  0.104216 -0.181241 -0.049453 -0.012834  0.030396   \n",
       "9           56.0 -0.032041  0.072728 -0.152929 -0.075693 -0.038496  0.008717   \n",
       "10          56.0 -0.053685  0.053148 -0.176453 -0.078893 -0.052906 -0.015302   \n",
       "11          56.0 -0.058194  0.053828 -0.238474 -0.093127 -0.045699 -0.022522   \n",
       "12          56.0 -0.052526  0.056991 -0.255486 -0.090391 -0.042294 -0.016239   \n",
       "13          56.0 -0.043532  0.053598 -0.224351 -0.069285 -0.031612 -0.012958   \n",
       "14          56.0 -0.033660  0.045983 -0.169312 -0.055110 -0.022165 -0.006797   \n",
       "15          56.0 -0.025880  0.039092 -0.134828 -0.050536 -0.018207  0.000486   \n",
       "16          56.0 -0.022414  0.035035 -0.131641 -0.041122 -0.020777 -0.001380   \n",
       "17          56.0 -0.021368  0.034797 -0.121574 -0.042946 -0.017070 -0.000026   \n",
       "18          56.0 -0.021867  0.036322 -0.103513 -0.046781 -0.020225 -0.002821   \n",
       "\n",
       "                max  \n",
       "timepoint            \n",
       "0          0.074399  \n",
       "1          0.063558  \n",
       "2          0.077277  \n",
       "3          0.185581  \n",
       "4          0.346775  \n",
       "5          0.476055  \n",
       "6          0.564985  \n",
       "7          0.494787  \n",
       "8          0.337143  \n",
       "9          0.221716  \n",
       "10         0.089231  \n",
       "11         0.030528  \n",
       "12         0.055766  \n",
       "13         0.059510  \n",
       "14         0.050133  \n",
       "15         0.047102  \n",
       "16         0.057105  \n",
       "17         0.073757  \n",
       "18         0.090520  "
      ]
     },
     "execution_count": 14,
     "metadata": {},
     "output_type": "execute_result"
    }
   ],
   "source": [
    "df.groupby(\"timepoint\")[\"signal\"].describe()"
   ]
  },
  {
   "cell_type": "code",
   "execution_count": 15,
   "id": "39d29147-ab81-4c0d-899a-1ad57e32c696",
   "metadata": {},
   "outputs": [],
   "source": [
    "#standart sapmalar değişkenlik göstermiş. Bu durum başka değişkenlerinde bir etken oldugunu göstermektedir."
   ]
  },
  {
   "cell_type": "markdown",
   "id": "100f7006-042d-4423-987b-4314cb16f85c",
   "metadata": {},
   "source": [
    "#### Çizgi Grafik ve Çaprazlamalar"
   ]
  },
  {
   "cell_type": "code",
   "execution_count": 16,
   "id": "2818009e-4734-4b08-8410-ee8f57a469e0",
   "metadata": {},
   "outputs": [
    {
     "data": {
      "text/plain": [
       "<AxesSubplot:xlabel='timepoint', ylabel='signal'>"
      ]
     },
     "execution_count": 16,
     "metadata": {},
     "output_type": "execute_result"
    },
    {
     "data": {
      "image/png": "[encoded data removed]",
      "text/plain": [
       "<Figure size 432x288 with 1 Axes>"
      ]
     },
     "metadata": {
      "needs_background": "light"
     },
     "output_type": "display_data"
    }
   ],
   "source": [
    "sns.lineplot(x = \"timepoint\", y = \"signal\", data =  df)"
   ]
  },
  {
   "cell_type": "code",
   "execution_count": 17,
   "id": "0b8a8c3c-d0be-4f65-93be-b669466a22e8",
   "metadata": {},
   "outputs": [],
   "source": [
    "#Koyu çizgiler ortalama değer etrafondaki değerler standart sapma"
   ]
  },
  {
   "cell_type": "code",
   "execution_count": 18,
   "id": "c6900d8b-cae2-40d4-82a4-d505fc7f89df",
   "metadata": {},
   "outputs": [
    {
     "data": {
      "text/plain": [
       "<AxesSubplot:xlabel='timepoint', ylabel='signal'>"
      ]
     },
     "execution_count": 18,
     "metadata": {},
     "output_type": "execute_result"
    },
    {
     "data": {
      "image/png": "[encoded data removed]",
      "text/plain": [
       "<Figure size 432x288 with 1 Axes>"
      ]
     },
     "metadata": {
      "needs_background": "light"
     },
     "output_type": "display_data"
    }
   ],
   "source": [
    "sns.lineplot(x = \"timepoint\", y = \"signal\", hue = \"event\", data =  df)"
   ]
  },
  {
   "cell_type": "code",
   "execution_count": null,
   "id": "a957389d-3223-4c1b-8b12-f9a305f60643",
   "metadata": {},
   "outputs": [],
   "source": [
    "#cue değeri stim degerini etkilemektedir. ama pic yapmasının sebebi sitmdir."
   ]
  },
  {
   "cell_type": "code",
   "execution_count": 20,
   "id": "a84b7df2-8b80-4322-9815-e5e4cb9b2f84",
   "metadata": {},
   "outputs": [
    {
     "data": {
      "text/plain": [
       "<AxesSubplot:xlabel='timepoint', ylabel='signal'>"
      ]
     },
     "execution_count": 20,
     "metadata": {},
     "output_type": "execute_result"
    },
    {
     "data": {
      "image/png": "[encoded data removed]",
      "text/plain": [
       "<Figure size 432x288 with 1 Axes>"
      ]
     },
     "metadata": {
      "needs_background": "light"
     },
     "output_type": "display_data"
    }
   ],
   "source": [
    "sns.lineplot(x = \"timepoint\", y = \"signal\", hue = \"event\", style = \"event\", data =  df)"
   ]
  },
  {
   "cell_type": "code",
   "execution_count": 21,
   "id": "92d1e7eb-78cd-4b41-a7c6-dab9f575d41d",
   "metadata": {},
   "outputs": [
    {
     "data": {
      "text/plain": [
       "<AxesSubplot:xlabel='timepoint', ylabel='signal'>"
      ]
     },
     "execution_count": 21,
     "metadata": {},
     "output_type": "execute_result"
    },
    {
     "data": {
      "image/png": "[encoded data removed]",
      "text/plain": [
       "<Figure size 432x288 with 1 Axes>"
      ]
     },
     "metadata": {
      "needs_background": "light"
     },
     "output_type": "display_data"
    }
   ],
   "source": [
    "sns.lineplot(x = \"timepoint\",\n",
    "             y = \"signal\",\n",
    "             hue = \"event\",\n",
    "             style = \"event\",\n",
    "             markers = True,\n",
    "             dashes = False,\n",
    "             data =  df)"
   ]
  },
  {
   "cell_type": "code",
   "execution_count": 23,
   "id": "5e48fa39-307e-46e6-9904-cf53b4ae0f8e",
   "metadata": {},
   "outputs": [
    {
     "data": {
      "text/plain": [
       "<AxesSubplot:xlabel='timepoint', ylabel='signal'>"
      ]
     },
     "execution_count": 23,
     "metadata": {},
     "output_type": "execute_result"
    },
    {
     "data": {
      "image/png": "[encoded data removed]",
      "text/plain": [
       "<Figure size 432x288 with 1 Axes>"
      ]
     },
     "metadata": {
      "needs_background": "light"
     },
     "output_type": "display_data"
    }
   ],
   "source": [
    "sns.lineplot(x = \"timepoint\",\n",
    "             y = \"signal\",\n",
    "             hue = \"region\",\n",
    "             style = \"event\",\n",
    "             data =  df)"
   ]
  },
  {
   "cell_type": "markdown",
   "id": "a6766940-14f5-4623-ae29-f8dcc83fac29",
   "metadata": {},
   "source": [
    "### Basit Zaman Serisi Grafiği"
   ]
  },
  {
   "cell_type": "code",
   "execution_count": 24,
   "id": "9391996a-c531-45e3-8287-d65a1ad976f4",
   "metadata": {},
   "outputs": [
    {
     "name": "stdout",
     "output_type": "stream",
     "text": [
      "Collecting pandas_datareader\n",
      "  Downloading pandas_datareader-0.10.0-py3-none-any.whl (109 kB)\n",
      "Requirement already satisfied: pandas>=0.23 in c:\\users\\hatice.desktop-72eacso\\anaconda3\\lib\\site-packages (from pandas_datareader) (1.3.4)\n",
      "Requirement already satisfied: requests>=2.19.0 in c:\\users\\hatice.desktop-72eacso\\anaconda3\\lib\\site-packages (from pandas_datareader) (2.26.0)\n",
      "Requirement already satisfied: lxml in c:\\users\\hatice.desktop-72eacso\\anaconda3\\lib\\site-packages (from pandas_datareader) (4.6.3)\n",
      "Requirement already satisfied: pytz>=2017.3 in c:\\users\\hatice.desktop-72eacso\\anaconda3\\lib\\site-packages (from pandas>=0.23->pandas_datareader) (2021.3)\n",
      "Requirement already satisfied: python-dateutil>=2.7.3 in c:\\users\\hatice.desktop-72eacso\\anaconda3\\lib\\site-packages (from pandas>=0.23->pandas_datareader) (2.8.2)\n",
      "Requirement already satisfied: numpy>=1.17.3 in c:\\users\\hatice.desktop-72eacso\\anaconda3\\lib\\site-packages (from pandas>=0.23->pandas_datareader) (1.20.3)\n",
      "Requirement already satisfied: six>=1.5 in c:\\users\\hatice.desktop-72eacso\\anaconda3\\lib\\site-packages (from python-dateutil>=2.7.3->pandas>=0.23->pandas_datareader) (1.16.0)\n",
      "Requirement already satisfied: charset-normalizer~=2.0.0 in c:\\users\\hatice.desktop-72eacso\\anaconda3\\lib\\site-packages (from requests>=2.19.0->pandas_datareader) (2.0.4)\n",
      "Requirement already satisfied: urllib3<1.27,>=1.21.1 in c:\\users\\hatice.desktop-72eacso\\anaconda3\\lib\\site-packages (from requests>=2.19.0->pandas_datareader) (1.26.7)\n",
      "Requirement already satisfied: idna<4,>=2.5 in c:\\users\\hatice.desktop-72eacso\\anaconda3\\lib\\site-packages (from requests>=2.19.0->pandas_datareader) (3.2)\n",
      "Requirement already satisfied: certifi>=2017.4.17 in c:\\users\\hatice.desktop-72eacso\\anaconda3\\lib\\site-packages (from requests>=2.19.0->pandas_datareader) (2021.10.8)\n",
      "Installing collected packages: pandas-datareader\n",
      "Successfully installed pandas-datareader-0.10.0\n"
     ]
    }
   ],
   "source": [
    "!pip install pandas_datareader"
   ]
  },
  {
   "cell_type": "code",
   "execution_count": 36,
   "id": "89309510-a428-436d-86aa-f05f9630f7fb",
   "metadata": {},
   "outputs": [],
   "source": [
    "import pandas as pd\n",
    "import pandas_datareader as pr"
   ]
  },
  {
   "cell_type": "code",
   "execution_count": 26,
   "id": "62c0ea17-9e4c-4f67-98ed-6f7ca6995c6d",
   "metadata": {},
   "outputs": [],
   "source": [
    "#Apple'ın Borsadaki Hisse Senedi Değerleri\n",
    "df = pr.get_data_yahoo(\"AAPL\", start = \"2016-01-01\", end = \"2019-08-25\") "
   ]
  },
  {
   "cell_type": "code",
   "execution_count": 27,
   "id": "8089bdc4-0c0d-438a-9f67-e6e90e60ded2",
   "metadata": {},
   "outputs": [
    {
     "data": {
      "text/html": [
       "<div>\n",
       "<style scoped>\n",
       "    .dataframe tbody tr th:only-of-type {\n",
       "        vertical-align: middle;\n",
       "    }\n",
       "\n",
       "    .dataframe tbody tr th {\n",
       "        vertical-align: top;\n",
       "    }\n",
       "\n",
       "    .dataframe thead th {\n",
       "        text-align: right;\n",
       "    }\n",
       "</style>\n",
       "<table border=\"1\" class=\"dataframe\">\n",
       "  <thead>\n",
       "    <tr style=\"text-align: right;\">\n",
       "      <th></th>\n",
       "      <th>High</th>\n",
       "      <th>Low</th>\n",
       "      <th>Open</th>\n",
       "      <th>Close</th>\n",
       "      <th>Volume</th>\n",
       "      <th>Adj Close</th>\n",
       "    </tr>\n",
       "    <tr>\n",
       "      <th>Date</th>\n",
       "      <th></th>\n",
       "      <th></th>\n",
       "      <th></th>\n",
       "      <th></th>\n",
       "      <th></th>\n",
       "      <th></th>\n",
       "    </tr>\n",
       "  </thead>\n",
       "  <tbody>\n",
       "    <tr>\n",
       "      <th>2016-01-04</th>\n",
       "      <td>26.342501</td>\n",
       "      <td>25.500000</td>\n",
       "      <td>25.652500</td>\n",
       "      <td>26.337500</td>\n",
       "      <td>270597600.0</td>\n",
       "      <td>24.185047</td>\n",
       "    </tr>\n",
       "    <tr>\n",
       "      <th>2016-01-05</th>\n",
       "      <td>26.462500</td>\n",
       "      <td>25.602501</td>\n",
       "      <td>26.437500</td>\n",
       "      <td>25.677500</td>\n",
       "      <td>223164000.0</td>\n",
       "      <td>23.578985</td>\n",
       "    </tr>\n",
       "    <tr>\n",
       "      <th>2016-01-06</th>\n",
       "      <td>25.592501</td>\n",
       "      <td>24.967501</td>\n",
       "      <td>25.139999</td>\n",
       "      <td>25.174999</td>\n",
       "      <td>273829600.0</td>\n",
       "      <td>23.117548</td>\n",
       "    </tr>\n",
       "    <tr>\n",
       "      <th>2016-01-07</th>\n",
       "      <td>25.032499</td>\n",
       "      <td>24.107500</td>\n",
       "      <td>24.670000</td>\n",
       "      <td>24.112499</td>\n",
       "      <td>324377600.0</td>\n",
       "      <td>22.141882</td>\n",
       "    </tr>\n",
       "    <tr>\n",
       "      <th>2016-01-08</th>\n",
       "      <td>24.777500</td>\n",
       "      <td>24.190001</td>\n",
       "      <td>24.637501</td>\n",
       "      <td>24.240000</td>\n",
       "      <td>283192000.0</td>\n",
       "      <td>22.258961</td>\n",
       "    </tr>\n",
       "    <tr>\n",
       "      <th>...</th>\n",
       "      <td>...</td>\n",
       "      <td>...</td>\n",
       "      <td>...</td>\n",
       "      <td>...</td>\n",
       "      <td>...</td>\n",
       "      <td>...</td>\n",
       "    </tr>\n",
       "    <tr>\n",
       "      <th>2019-08-19</th>\n",
       "      <td>53.182499</td>\n",
       "      <td>52.507500</td>\n",
       "      <td>52.654999</td>\n",
       "      <td>52.587502</td>\n",
       "      <td>97654400.0</td>\n",
       "      <td>51.521259</td>\n",
       "    </tr>\n",
       "    <tr>\n",
       "      <th>2019-08-20</th>\n",
       "      <td>53.337502</td>\n",
       "      <td>52.580002</td>\n",
       "      <td>52.720001</td>\n",
       "      <td>52.590000</td>\n",
       "      <td>107537200.0</td>\n",
       "      <td>51.523705</td>\n",
       "    </tr>\n",
       "    <tr>\n",
       "      <th>2019-08-21</th>\n",
       "      <td>53.412498</td>\n",
       "      <td>52.900002</td>\n",
       "      <td>53.247501</td>\n",
       "      <td>53.160000</td>\n",
       "      <td>86141600.0</td>\n",
       "      <td>52.082146</td>\n",
       "    </tr>\n",
       "    <tr>\n",
       "      <th>2019-08-22</th>\n",
       "      <td>53.610001</td>\n",
       "      <td>52.687500</td>\n",
       "      <td>53.297501</td>\n",
       "      <td>53.115002</td>\n",
       "      <td>89014800.0</td>\n",
       "      <td>52.038059</td>\n",
       "    </tr>\n",
       "    <tr>\n",
       "      <th>2019-08-23</th>\n",
       "      <td>53.012501</td>\n",
       "      <td>50.250000</td>\n",
       "      <td>52.357498</td>\n",
       "      <td>50.660000</td>\n",
       "      <td>187272000.0</td>\n",
       "      <td>49.632835</td>\n",
       "    </tr>\n",
       "  </tbody>\n",
       "</table>\n",
       "<p>917 rows × 6 columns</p>\n",
       "</div>"
      ],
      "text/plain": [
       "                 High        Low       Open      Close       Volume  Adj Close\n",
       "Date                                                                          \n",
       "2016-01-04  26.342501  25.500000  25.652500  26.337500  270597600.0  24.185047\n",
       "2016-01-05  26.462500  25.602501  26.437500  25.677500  223164000.0  23.578985\n",
       "2016-01-06  25.592501  24.967501  25.139999  25.174999  273829600.0  23.117548\n",
       "2016-01-07  25.032499  24.107500  24.670000  24.112499  324377600.0  22.141882\n",
       "2016-01-08  24.777500  24.190001  24.637501  24.240000  283192000.0  22.258961\n",
       "...               ...        ...        ...        ...          ...        ...\n",
       "2019-08-19  53.182499  52.507500  52.654999  52.587502   97654400.0  51.521259\n",
       "2019-08-20  53.337502  52.580002  52.720001  52.590000  107537200.0  51.523705\n",
       "2019-08-21  53.412498  52.900002  53.247501  53.160000   86141600.0  52.082146\n",
       "2019-08-22  53.610001  52.687500  53.297501  53.115002   89014800.0  52.038059\n",
       "2019-08-23  53.012501  50.250000  52.357498  50.660000  187272000.0  49.632835\n",
       "\n",
       "[917 rows x 6 columns]"
      ]
     },
     "execution_count": 27,
     "metadata": {},
     "output_type": "execute_result"
    }
   ],
   "source": [
    "df"
   ]
  },
  {
   "cell_type": "code",
   "execution_count": 28,
   "id": "195b07b2-227e-4345-b473-579b1c0d8d0b",
   "metadata": {},
   "outputs": [],
   "source": [
    "kapanis = df[\"Close\"]"
   ]
  },
  {
   "cell_type": "code",
   "execution_count": 29,
   "id": "3279888d-efe3-4de4-a54b-3f64639996a5",
   "metadata": {},
   "outputs": [
    {
     "data": {
      "text/plain": [
       "Date\n",
       "2016-01-04    26.337500\n",
       "2016-01-05    25.677500\n",
       "2016-01-06    25.174999\n",
       "2016-01-07    24.112499\n",
       "2016-01-08    24.240000\n",
       "                ...    \n",
       "2019-08-19    52.587502\n",
       "2019-08-20    52.590000\n",
       "2019-08-21    53.160000\n",
       "2019-08-22    53.115002\n",
       "2019-08-23    50.660000\n",
       "Name: Close, Length: 917, dtype: float64"
      ]
     },
     "execution_count": 29,
     "metadata": {},
     "output_type": "execute_result"
    }
   ],
   "source": [
    "kapanis"
   ]
  },
  {
   "cell_type": "code",
   "execution_count": 31,
   "id": "a8e9b63c-e670-4c50-83cd-fa907588fb2d",
   "metadata": {},
   "outputs": [
    {
     "data": {
      "text/plain": [
       "<AxesSubplot:xlabel='Date'>"
      ]
     },
     "execution_count": 31,
     "metadata": {},
     "output_type": "execute_result"
    },
    {
     "data": {
      "image/png": "[encoded data removed]",
      "text/plain": [
       "<Figure size 432x288 with 1 Axes>"
      ]
     },
     "metadata": {
      "needs_background": "light"
     },
     "output_type": "display_data"
    }
   ],
   "source": [
    "kapanis.plot()"
   ]
  },
  {
   "cell_type": "code",
   "execution_count": 34,
   "id": "5ac85603-a625-4c0f-beca-73643efcf354",
   "metadata": {},
   "outputs": [
    {
     "data": {
      "text/plain": [
       "DatetimeIndex(['2016-01-04', '2016-01-05', '2016-01-06', '2016-01-07',\n",
       "               '2016-01-08', '2016-01-11', '2016-01-12', '2016-01-13',\n",
       "               '2016-01-14', '2016-01-15',\n",
       "               ...\n",
       "               '2019-08-12', '2019-08-13', '2019-08-14', '2019-08-15',\n",
       "               '2019-08-16', '2019-08-19', '2019-08-20', '2019-08-21',\n",
       "               '2019-08-22', '2019-08-23'],\n",
       "              dtype='datetime64[ns]', name='Date', length=917, freq=None)"
      ]
     },
     "execution_count": 34,
     "metadata": {},
     "output_type": "execute_result"
    }
   ],
   "source": [
    "kapanis.index"
   ]
  },
  {
   "cell_type": "code",
   "execution_count": 39,
   "id": "4baaeba8-94e4-498b-8618-1bcce8ea5988",
   "metadata": {},
   "outputs": [],
   "source": [
    "#problem olması durumunda tarihleri bu şekilde date'e dönüştürebilirsin.\n",
    "kapanis.index = pd.DatetimeIndex(kapanis.index)"
   ]
  },
  {
   "cell_type": "code",
   "execution_count": 40,
   "id": "a6b435e0-ad13-4d3a-8372-e192d464ca3a",
   "metadata": {},
   "outputs": [
    {
     "data": {
      "text/plain": [
       "Date\n",
       "2016-01-04    26.337500\n",
       "2016-01-05    25.677500\n",
       "2016-01-06    25.174999\n",
       "2016-01-07    24.112499\n",
       "2016-01-08    24.240000\n",
       "                ...    \n",
       "2019-08-19    52.587502\n",
       "2019-08-20    52.590000\n",
       "2019-08-21    53.160000\n",
       "2019-08-22    53.115002\n",
       "2019-08-23    50.660000\n",
       "Name: Close, Length: 917, dtype: float64"
      ]
     },
     "execution_count": 40,
     "metadata": {},
     "output_type": "execute_result"
    }
   ],
   "source": [
    "kapanis"
   ]
  }
 ],
 "metadata": {
  "kernelspec": {
   "display_name": "Python 3 (ipykernel)",
   "language": "python",
   "name": "python3"
  },
  "language_info": {
   "codemirror_mode": {
    "name": "ipython",
    "version": 3
   },
   "file_extension": ".py",
   "mimetype": "text/x-python",
   "name": "python",
   "nbconvert_exporter": "python",
   "pygments_lexer": "ipython3",
   "version": "3.9.7"
  }
 },
 "nbformat": 4,
 "nbformat_minor": 5
}
